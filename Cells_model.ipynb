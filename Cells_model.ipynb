{
 "cells": [
  {
   "cell_type": "code",
   "execution_count": 135,
   "metadata": {},
   "outputs": [],
   "source": [
    "from collections import namedtuple\n",
    "\n",
    "import gizeh\n",
    "import numpy as np"
   ]
  },
  {
   "cell_type": "code",
   "execution_count": 136,
   "metadata": {},
   "outputs": [],
   "source": [
    "def get_neighbour_concentration(angle, concentration):\n",
    "    return concentration * abs(np.pi - angle) / (2*np.pi)"
   ]
  },
  {
   "cell_type": "code",
   "execution_count": 166,
   "metadata": {},
   "outputs": [],
   "source": [
    "class Cell:\n",
    "    MAX_CONCENTRATION = 1024\n",
    "    \n",
    "    def __init__(self, x, y, radius, is_stem=False, stem_angle=None):\n",
    "        self.x = x\n",
    "        self.y = y\n",
    "        self.radius = radius\n",
    "        self.is_stem = is_stem\n",
    "        self.neighbours = {}\n",
    "        self.checked = False\n",
    "        self.gradient = {x:None,\n",
    "                         y:None}\n",
    "        \n",
    "        if self.is_stem:\n",
    "            self.stem_angle = stem_angle\n",
    "            \n",
    "        if self.is_stem:\n",
    "            self.concentration = Cell.MAX_CONCENTRATION\n",
    "        else:\n",
    "            self.concentration = None\n",
    "            \n",
    "    def __repr__(self):\n",
    "        return '(x: {x}, y: {y}), {c} {stem}'.format(x = self.x,\n",
    "                                                     y = self.y,\n",
    "                                                     c = self.concentration,\n",
    "                                                     stem = '*' if self.is_stem else '')\n",
    "            \n",
    "    def set_gradient(self):\n",
    "        self.checked = True\n",
    "        if self.is_stem:\n",
    "            self.concentration += Cell.MAX_CONCENTRATION\n",
    "            \n",
    "            stem_angle = (self.stem_angle + np.pi) % (2*np.pi)\n",
    "            self.gradient['x'] += self.concentration * np.cos(stem_angle)\n",
    "            self.gradient['y'] += self.concentration * np.sin(stem_angle)\n",
    "            \n",
    "        for neighbour, angle in self.neighbours.items():\n",
    "            angle_to_gradient = self.gradient_angle() - angle\n",
    "            \n",
    "            influence = get_neighbour_concentration(angle_to_gradient, self.concentration)\n",
    "            \n",
    "            if not neighbour.checked:\n",
    "                neighbour.concentration += influence\n",
    "                neighbour.gradient['x'] += self.gradient['x']\n",
    "                neighbour.gradient['y'] += self.gradient['y']            \n",
    "                neighbour.set_gradient()\n",
    "        \n",
    "        \n",
    "    def add_neighbour(self, angle, neighbour):\n",
    "        self.neighbours[neighbour] = angle\n",
    "        neighbour.neighbours[self] = (np.pi + angle) % np.pi\n",
    "        \n",
    "    def gradient_angle(self):\n",
    "        return np.arctan(self.gradient['y'] / self.gradient['x'])\n",
    "        \n",
    "    def divide(self):\n",
    "        \"\"\"Return a new neighbour of the cell in the direction of the gradient\"\"\"\n",
    "        return Cell(None, None, self.radius), self.gradient_angle() # x and y don't matter now"
   ]
  },
  {
   "cell_type": "code",
   "execution_count": 179,
   "metadata": {},
   "outputs": [],
   "source": [
    "class Organism:\n",
    "    def __init__(self):\n",
    "        self.cells = [Cell(x=0, y=0, radius=30, is_stem=True, stem_angle=-np.pi/2)]\n",
    "        self.root_cell = self.cells[0]\n",
    "        \n",
    "    def reset_checks(self):\n",
    "        \"\"\"Set `cell.checked` attribute of each cell to False\"\"\"\n",
    "        for cell in self.cells:\n",
    "            cell.checked = False\n",
    "        \n",
    "    def set_gradients(self):\n",
    "        \"\"\"Set all the gradients and concentrations for `self.cells`\"\"\"        \n",
    "        stem_cells = []\n",
    "        \n",
    "        for cell in self.cells:\n",
    "            cell.concentration = 0\n",
    "            cell.gradient = {'x': 0,\n",
    "                             'y': 0}\n",
    "            if cell.is_stem:\n",
    "                stem_cells.append(cell)\n",
    "        \n",
    "        for cell in stem_cells:\n",
    "            self.reset_checks()\n",
    "            cell.set_gradient()\n",
    "        \n",
    "    \n",
    "    def draw(self):\n",
    "        \"\"\"Draw the organism\"\"\"\n",
    "        surface = gizeh.Surface(width=500, height=500)\n",
    "        \n",
    "        offset = 250\n",
    "        \n",
    "        for cell in self.cells:\n",
    "            circle = gizeh.circle(r=cell.radius,\n",
    "                                  xy=[cell.x + offset, cell.y + offset],\n",
    "                                  fill=(cell.concentration/Cell.MAX_CONCENTRATION, 0, 0),\n",
    "                                  stroke=(0,0,0),\n",
    "                                  stroke_width=2)\n",
    "            circle.draw(surface)\n",
    "            \n",
    "            # draw the gradient of the cell as an arrow\n",
    "            triangle = gizeh.regular_polygon(r=cell.radius/5, n=3, angle=0,\n",
    "                                             xy=[cell.x+offset+.7*cell.radius*cell.concentration/Cell.MAX_CONCENTRATION,\n",
    "                                                 cell.y+offset], fill=(1,1,1))\n",
    "            \n",
    "            line = gizeh.polyline(points=[(cell.x+offset, cell.y+offset),\n",
    "                                          (cell.x+offset+.7*cell.radius*cell.concentration/Cell.MAX_CONCENTRATION,\n",
    "                                           cell.y+offset)],\n",
    "                                           stroke_width=3, stroke=(1,1,1))\n",
    "            \n",
    "            arrow = gizeh.Group([triangle, line])\n",
    "            arrow = arrow.rotate(cell.gradient_angle(), center=[cell.x+offset,cell.y+offset])\n",
    "            arrow.draw(surface)\n",
    "            \n",
    "            if cell.is_stem:\n",
    "                stem_r = cell.radius / 5\n",
    "                \n",
    "                circle = gizeh.circle(r=stem_r,\n",
    "                                      xy=[\n",
    "                                          cell.x + offset + (cell.radius - stem_r)*np.cos(cell.stem_angle),\n",
    "                                          cell.y + offset + (cell.radius - stem_r)*np.sin(cell.stem_angle),\n",
    "                                      ],\n",
    "                                      fill=(0,0,1))\n",
    "                circle.draw(surface)\n",
    "                \n",
    "            \n",
    "        return surface\n",
    "    \n",
    "    def divide_cells(self):\n",
    "        \n",
    "        new_cells = []\n",
    "        \n",
    "        for cell in self.cells:\n",
    "            new_cell, angle = cell.divide()\n",
    "            cell.add_neighbour(angle, new_cell)\n",
    "            new_cells.append(new_cell)\n",
    "            cell.checked = False  # Reset all checks for checking correctne\n",
    "        \n",
    "        for new_cell in new_cells:\n",
    "            self.cells.append(new_cell)\n",
    "            \n",
    "        self._check_correctness(self.root_cell)\n",
    "        self.set_gradients()\n",
    "        \n",
    "        \n",
    "    def _check_correctness(self, cell):\n",
    "        \"\"\"Set correct coordinates to all the cells\"\"\"\n",
    "        cell.checked = True\n",
    "        \n",
    "        for neighbour, angle in cell.neighbours.items():\n",
    "            if not neighbour.checked:\n",
    "                neighbour.x = cell.x + 2*cell.radius*np.cos(angle)\n",
    "                neighbour.y = cell.y + 2*cell.radius*np.sin(angle)\n",
    "                self._check_correctness(neighbour)"
   ]
  },
  {
   "cell_type": "code",
   "execution_count": 180,
   "metadata": {},
   "outputs": [
    {
     "data": {
      "image/png": "[encoded data removed]",
      "text/html": [
       "<img  src=\"data:image/png;base64,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\">"
      ],
      "text/plain": [
       "<gizeh.gizeh.Surface at 0x7fe0b9538a20>"
      ]
     },
     "execution_count": 180,
     "metadata": {},
     "output_type": "execute_result"
    }
   ],
   "source": [
    "wormy = Organism()\n",
    "wormy.set_gradients()\n",
    "wormy.draw()"
   ]
  },
  {
   "cell_type": "code",
   "execution_count": 181,
   "metadata": {},
   "outputs": [
    {
     "ename": "TypeError",
     "evalue": "unsupported operand type(s) for -: 'NoneType' and 'int'",
     "output_type": "error",
     "traceback": [
      "\u001b[0;31m---------------------------------------------------------------------------\u001b[0m",
      "\u001b[0;31mTypeError\u001b[0m                                 Traceback (most recent call last)",
      "\u001b[0;32m<ipython-input-181-4612c27e43a7>\u001b[0m in \u001b[0;36m<module>\u001b[0;34m\u001b[0m\n\u001b[1;32m      1\u001b[0m \u001b[0mwormy\u001b[0m\u001b[0;34m.\u001b[0m\u001b[0mset_gradients\u001b[0m\u001b[0;34m(\u001b[0m\u001b[0;34m)\u001b[0m\u001b[0;34m\u001b[0m\u001b[0;34m\u001b[0m\u001b[0m\n\u001b[0;32m----> 2\u001b[0;31m \u001b[0mwormy\u001b[0m\u001b[0;34m.\u001b[0m\u001b[0mdivide_cells\u001b[0m\u001b[0;34m(\u001b[0m\u001b[0;34m)\u001b[0m\u001b[0;34m\u001b[0m\u001b[0;34m\u001b[0m\u001b[0m\n\u001b[0m\u001b[1;32m      3\u001b[0m \u001b[0mwormy\u001b[0m\u001b[0;34m.\u001b[0m\u001b[0mdraw\u001b[0m\u001b[0;34m(\u001b[0m\u001b[0;34m)\u001b[0m\u001b[0;34m\u001b[0m\u001b[0;34m\u001b[0m\u001b[0m\n",
      "\u001b[0;32m<ipython-input-179-d989ffe74f06>\u001b[0m in \u001b[0;36mdivide_cells\u001b[0;34m(self)\u001b[0m\n\u001b[1;32m     74\u001b[0m             \u001b[0mnew_cell\u001b[0m\u001b[0;34m,\u001b[0m \u001b[0mangle\u001b[0m \u001b[0;34m=\u001b[0m \u001b[0mcell\u001b[0m\u001b[0;34m.\u001b[0m\u001b[0mdivide\u001b[0m\u001b[0;34m(\u001b[0m\u001b[0;34m)\u001b[0m\u001b[0;34m\u001b[0m\u001b[0;34m\u001b[0m\u001b[0m\n\u001b[1;32m     75\u001b[0m \u001b[0;34m\u001b[0m\u001b[0m\n\u001b[0;32m---> 76\u001b[0;31m             \u001b[0;32mif\u001b[0m \u001b[0;32mnot\u001b[0m \u001b[0mself\u001b[0m\u001b[0;34m.\u001b[0m\u001b[0mintersects\u001b[0m\u001b[0;34m(\u001b[0m\u001b[0mnew_cell\u001b[0m\u001b[0;34m,\u001b[0m \u001b[0mself\u001b[0m\u001b[0;34m.\u001b[0m\u001b[0mcells\u001b[0m \u001b[0;34m+\u001b[0m \u001b[0mnew_cells\u001b[0m\u001b[0;34m)\u001b[0m\u001b[0;34m:\u001b[0m\u001b[0;34m\u001b[0m\u001b[0;34m\u001b[0m\u001b[0m\n\u001b[0m\u001b[1;32m     77\u001b[0m                 \u001b[0mcell\u001b[0m\u001b[0;34m.\u001b[0m\u001b[0madd_neighbour\u001b[0m\u001b[0;34m(\u001b[0m\u001b[0mangle\u001b[0m\u001b[0;34m,\u001b[0m \u001b[0mnew_cell\u001b[0m\u001b[0;34m)\u001b[0m\u001b[0;34m\u001b[0m\u001b[0;34m\u001b[0m\u001b[0m\n\u001b[1;32m     78\u001b[0m                 \u001b[0mnew_cells\u001b[0m\u001b[0;34m.\u001b[0m\u001b[0mappend\u001b[0m\u001b[0;34m(\u001b[0m\u001b[0mnew_cell\u001b[0m\u001b[0;34m)\u001b[0m\u001b[0;34m\u001b[0m\u001b[0;34m\u001b[0m\u001b[0m\n",
      "\u001b[0;32m<ipython-input-179-d989ffe74f06>\u001b[0m in \u001b[0;36mintersects\u001b[0;34m(self, cell, cells)\u001b[0m\n\u001b[1;32m    104\u001b[0m \u001b[0;34m\u001b[0m\u001b[0m\n\u001b[1;32m    105\u001b[0m             if (abs(cell.radius - old_cell.radius) <= \n\u001b[0;32m--> 106\u001b[0;31m                 (cell.x - old_cell.x)**2 + (cell.y - old_cell.y)**2)**(.5) <= cell.radius + old_cell.radius:\n\u001b[0m\u001b[1;32m    107\u001b[0m                     \u001b[0;32mreturn\u001b[0m \u001b[0;32mTrue\u001b[0m\u001b[0;34m\u001b[0m\u001b[0;34m\u001b[0m\u001b[0m\n\u001b[1;32m    108\u001b[0m \u001b[0;34m\u001b[0m\u001b[0m\n",
      "\u001b[0;31mTypeError\u001b[0m: unsupported operand type(s) for -: 'NoneType' and 'int'"
     ]
    }
   ],
   "source": [
    "wormy.set_gradients()\n",
    "wormy.divide_cells()\n",
    "wormy.draw()"
   ]
  },
  {
   "cell_type": "code",
   "execution_count": 182,
   "metadata": {},
   "outputs": [
    {
     "ename": "TypeError",
     "evalue": "unsupported operand type(s) for -: 'NoneType' and 'int'",
     "output_type": "error",
     "traceback": [
      "\u001b[0;31m---------------------------------------------------------------------------\u001b[0m",
      "\u001b[0;31mTypeError\u001b[0m                                 Traceback (most recent call last)",
      "\u001b[0;32m<ipython-input-182-6564d8eeffdd>\u001b[0m in \u001b[0;36m<module>\u001b[0;34m\u001b[0m\n\u001b[0;32m----> 1\u001b[0;31m \u001b[0mwormy\u001b[0m\u001b[0;34m.\u001b[0m\u001b[0mdivide_cells\u001b[0m\u001b[0;34m(\u001b[0m\u001b[0;34m)\u001b[0m\u001b[0;34m\u001b[0m\u001b[0;34m\u001b[0m\u001b[0m\n\u001b[0m\u001b[1;32m      2\u001b[0m \u001b[0mwormy\u001b[0m\u001b[0;34m.\u001b[0m\u001b[0mdraw\u001b[0m\u001b[0;34m(\u001b[0m\u001b[0;34m)\u001b[0m\u001b[0;34m\u001b[0m\u001b[0;34m\u001b[0m\u001b[0m\n",
      "\u001b[0;32m<ipython-input-179-d989ffe74f06>\u001b[0m in \u001b[0;36mdivide_cells\u001b[0;34m(self)\u001b[0m\n\u001b[1;32m     74\u001b[0m             \u001b[0mnew_cell\u001b[0m\u001b[0;34m,\u001b[0m \u001b[0mangle\u001b[0m \u001b[0;34m=\u001b[0m \u001b[0mcell\u001b[0m\u001b[0;34m.\u001b[0m\u001b[0mdivide\u001b[0m\u001b[0;34m(\u001b[0m\u001b[0;34m)\u001b[0m\u001b[0;34m\u001b[0m\u001b[0;34m\u001b[0m\u001b[0m\n\u001b[1;32m     75\u001b[0m \u001b[0;34m\u001b[0m\u001b[0m\n\u001b[0;32m---> 76\u001b[0;31m             \u001b[0;32mif\u001b[0m \u001b[0;32mnot\u001b[0m \u001b[0mself\u001b[0m\u001b[0;34m.\u001b[0m\u001b[0mintersects\u001b[0m\u001b[0;34m(\u001b[0m\u001b[0mnew_cell\u001b[0m\u001b[0;34m,\u001b[0m \u001b[0mself\u001b[0m\u001b[0;34m.\u001b[0m\u001b[0mcells\u001b[0m \u001b[0;34m+\u001b[0m \u001b[0mnew_cells\u001b[0m\u001b[0;34m)\u001b[0m\u001b[0;34m:\u001b[0m\u001b[0;34m\u001b[0m\u001b[0;34m\u001b[0m\u001b[0m\n\u001b[0m\u001b[1;32m     77\u001b[0m                 \u001b[0mcell\u001b[0m\u001b[0;34m.\u001b[0m\u001b[0madd_neighbour\u001b[0m\u001b[0;34m(\u001b[0m\u001b[0mangle\u001b[0m\u001b[0;34m,\u001b[0m \u001b[0mnew_cell\u001b[0m\u001b[0;34m)\u001b[0m\u001b[0;34m\u001b[0m\u001b[0;34m\u001b[0m\u001b[0m\n\u001b[1;32m     78\u001b[0m                 \u001b[0mnew_cells\u001b[0m\u001b[0;34m.\u001b[0m\u001b[0mappend\u001b[0m\u001b[0;34m(\u001b[0m\u001b[0mnew_cell\u001b[0m\u001b[0;34m)\u001b[0m\u001b[0;34m\u001b[0m\u001b[0;34m\u001b[0m\u001b[0m\n",
      "\u001b[0;32m<ipython-input-179-d989ffe74f06>\u001b[0m in \u001b[0;36mintersects\u001b[0;34m(self, cell, cells)\u001b[0m\n\u001b[1;32m    104\u001b[0m \u001b[0;34m\u001b[0m\u001b[0m\n\u001b[1;32m    105\u001b[0m             if (abs(cell.radius - old_cell.radius) <= \n\u001b[0;32m--> 106\u001b[0;31m                 (cell.x - old_cell.x)**2 + (cell.y - old_cell.y)**2)**(.5) <= cell.radius + old_cell.radius:\n\u001b[0m\u001b[1;32m    107\u001b[0m                     \u001b[0;32mreturn\u001b[0m \u001b[0;32mTrue\u001b[0m\u001b[0;34m\u001b[0m\u001b[0;34m\u001b[0m\u001b[0m\n\u001b[1;32m    108\u001b[0m \u001b[0;34m\u001b[0m\u001b[0m\n",
      "\u001b[0;31mTypeError\u001b[0m: unsupported operand type(s) for -: 'NoneType' and 'int'"
     ]
    }
   ],
   "source": [
    "wormy.divide_cells()\n",
    "wormy.draw()"
   ]
  },
  {
   "cell_type": "code",
   "execution_count": 177,
   "metadata": {},
   "outputs": [
    {
     "data": {
      "image/png": "[encoded data removed]",
      "text/html": [
       "<img  src=\"data:image/png;base64,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\">"
      ],
      "text/plain": [
       "<gizeh.gizeh.Surface at 0x7fe0b955dda0>"
      ]
     },
     "execution_count": 177,
     "metadata": {},
     "output_type": "execute_result"
    }
   ],
   "source": [
    "wormy.divide_cells()\n",
    "wormy.draw()"
   ]
  },
  {
   "cell_type": "code",
   "execution_count": 178,
   "metadata": {},
   "outputs": [
    {
     "name": "stdout",
     "output_type": "stream",
     "text": [
      "(x: 0, y: 0), 1024 *\n",
      "--------------------\n",
      "(x: 3.67394039744206e-15, y: 60.0), 512.0 \n",
      "--------------------\n",
      "(x: 3.67394039744206e-15, y: 60.0), 512.0 \n",
      "--------------------\n",
      "(x: 7.34788079488412e-15, y: 120.0), 256.0 \n",
      "--------------------\n",
      "(x: 3.67394039744206e-15, y: 60.0), 512.0 \n",
      "--------------------\n",
      "(x: 7.34788079488412e-15, y: 120.0), 256.0 \n",
      "--------------------\n",
      "(x: 7.34788079488412e-15, y: 120.0), 256.0 \n",
      "--------------------\n",
      "(x: 1.1021821192326179e-14, y: 180.0), 128.0 \n",
      "--------------------\n"
     ]
    }
   ],
   "source": [
    "for cell in wormy.cells:\n",
    "    print(cell)\n",
    "    print('-'*20)"
   ]
  },
  {
   "cell_type": "code",
   "execution_count": null,
   "metadata": {},
   "outputs": [],
   "source": []
  },
  {
   "cell_type": "code",
   "execution_count": null,
   "metadata": {},
   "outputs": [],
   "source": []
  },
  {
   "cell_type": "code",
   "execution_count": null,
   "metadata": {},
   "outputs": [],
   "source": []
  },
  {
   "cell_type": "code",
   "execution_count": null,
   "metadata": {},
   "outputs": [],
   "source": []
  },
  {
   "cell_type": "code",
   "execution_count": null,
   "metadata": {},
   "outputs": [],
   "source": []
  },
  {
   "cell_type": "code",
   "execution_count": null,
   "metadata": {},
   "outputs": [],
   "source": []
  },
  {
   "cell_type": "code",
   "execution_count": null,
   "metadata": {},
   "outputs": [],
   "source": []
  },
  {
   "cell_type": "code",
   "execution_count": null,
   "metadata": {},
   "outputs": [],
   "source": []
  }
 ],
 "metadata": {
  "kernelspec": {
   "display_name": "Python 3",
   "language": "python",
   "name": "python3"
  },
  "language_info": {
   "codemirror_mode": {
    "name": "ipython",
    "version": 3
   },
   "file_extension": ".py",
   "mimetype": "text/x-python",
   "name": "python",
   "nbconvert_exporter": "python",
   "pygments_lexer": "ipython3",
   "version": "3.7.1"
  }
 },
 "nbformat": 4,
 "nbformat_minor": 2
}
