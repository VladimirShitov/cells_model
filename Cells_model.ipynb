{
 "cells": [
  {
   "cell_type": "code",
   "execution_count": 1,
   "metadata": {},
   "outputs": [],
   "source": [
    "from collections import namedtuple\n",
    "\n",
    "import gizeh\n",
    "import numpy as np"
   ]
  },
  {
   "cell_type": "code",
   "execution_count": 2,
   "metadata": {},
   "outputs": [],
   "source": [
    "def get_neighbour_concentration(angle, concentration):\n",
    "    return concentration * abs(np.pi - angle) / (2*np.pi)"
   ]
  },
  {
   "cell_type": "code",
   "execution_count": 3,
   "metadata": {},
   "outputs": [],
   "source": [
    "class Cell:\n",
    "    MAX_CONCENTRATION = 1024\n",
    "    \n",
    "    def __init__(self, x, y, radius, is_stem=False, stem_angle=None):\n",
    "        self.x = x\n",
    "        self.y = y\n",
    "        self.radius = radius\n",
    "        self.is_stem = is_stem\n",
    "        self.neighbours = {}\n",
    "        self.checked = False\n",
    "        self.gradient = {x:None,\n",
    "                         y:None}\n",
    "        \n",
    "        if self.is_stem:\n",
    "            self.stem_angle = stem_angle\n",
    "            \n",
    "        if self.is_stem:\n",
    "            self.concentration = Cell.MAX_CONCENTRATION\n",
    "        else:\n",
    "            self.concentration = None\n",
    "            \n",
    "    def __repr__(self):\n",
    "        return '(x: {x}, y: {y}), {c} {stem}'.format(x = self.x,\n",
    "                                                     y = self.y,\n",
    "                                                     c = self.concentration,\n",
    "                                                     stem = '*' if self.is_stem else '')\n",
    "            \n",
    "    def set_gradient(self):\n",
    "        self.checked = True\n",
    "        if self.is_stem:\n",
    "            self.concentration += Cell.MAX_CONCENTRATION\n",
    "            \n",
    "            stem_angle = (self.stem_angle + np.pi) % (2*np.pi)\n",
    "            self.gradient['x'] += self.concentration * np.cos(stem_angle)\n",
    "            self.gradient['y'] += self.concentration * np.sin(stem_angle)\n",
    "            \n",
    "        for neighbour, angle in self.neighbours.items():\n",
    "            angle_to_gradient = self.gradient_angle() - angle\n",
    "            \n",
    "            influence = get_neighbour_concentration(angle_to_gradient, self.concentration)\n",
    "            \n",
    "            if not neighbour.checked:\n",
    "                neighbour.concentration += influence\n",
    "                neighbour.gradient['x'] += self.gradient['x']\n",
    "                neighbour.gradient['y'] += self.gradient['y']            \n",
    "                neighbour.set_gradient()\n",
    "        \n",
    "        \n",
    "    def add_neighbour(self, angle, neighbour):\n",
    "        self.neighbours[neighbour] = angle\n",
    "        neighbour.neighbours[self] = (np.pi + angle) % np.pi\n",
    "        \n",
    "    def gradient_angle(self):\n",
    "        return np.arctan(self.gradient['y'] / self.gradient['x'])\n",
    "        \n",
    "    def divide(self):\n",
    "        \"\"\"Return a new neighbour of the cell in the direction of the gradient\"\"\"\n",
    "        return Cell(None, None, self.radius), self.gradient_angle() # x and y don't matter now"
   ]
  },
  {
   "cell_type": "code",
   "execution_count": 26,
   "metadata": {},
   "outputs": [],
   "source": [
    "class Organism:\n",
    "    def __init__(self):\n",
    "        self.cells = [Cell(x=0, y=0, radius=30, is_stem=True, stem_angle=-np.pi/2)]\n",
    "        self.root_cell = self.cells[0]\n",
    "        \n",
    "    def reset_checks(self):\n",
    "        \"\"\"Set `cell.checked` attribute of each cell to False\"\"\"\n",
    "        for cell in self.cells:\n",
    "            cell.checked = False\n",
    "        \n",
    "    def set_gradients(self):\n",
    "        \"\"\"Set all the gradients and concentrations for `self.cells`\"\"\"        \n",
    "        stem_cells = []\n",
    "        \n",
    "        for cell in self.cells:\n",
    "            cell.concentration = 0\n",
    "            cell.gradient = {'x': 0,\n",
    "                             'y': 0}\n",
    "            if cell.is_stem:\n",
    "                stem_cells.append(cell)\n",
    "        \n",
    "        for cell in stem_cells:\n",
    "            self.reset_checks()\n",
    "            cell.set_gradient()\n",
    "        \n",
    "    \n",
    "    def draw(self):\n",
    "        \"\"\"Draw the organism\"\"\"\n",
    "        surface = gizeh.Surface(width=500, height=500)\n",
    "        \n",
    "        offset = 250\n",
    "        \n",
    "        for cell in self.cells:\n",
    "            circle = gizeh.circle(r=cell.radius,\n",
    "                                  xy=[cell.x + offset, cell.y + offset],\n",
    "                                  fill=(cell.concentration/Cell.MAX_CONCENTRATION, 0, 0),\n",
    "                                  stroke=(0,0,0),\n",
    "                                  stroke_width=2)\n",
    "            circle.draw(surface)\n",
    "            \n",
    "            # draw the gradient of the cell as an arrow\n",
    "            triangle = gizeh.regular_polygon(r=cell.radius/5, n=3, angle=0,\n",
    "                                             xy=[cell.x+offset+.7*cell.radius*cell.concentration/Cell.MAX_CONCENTRATION,\n",
    "                                                 cell.y+offset], fill=(1,1,1))\n",
    "            \n",
    "            line = gizeh.polyline(points=[(cell.x+offset, cell.y+offset),\n",
    "                                          (cell.x+offset+.7*cell.radius*cell.concentration/Cell.MAX_CONCENTRATION,\n",
    "                                           cell.y+offset)],\n",
    "                                           stroke_width=3, stroke=(1,1,1))\n",
    "            \n",
    "            arrow = gizeh.Group([triangle, line])\n",
    "            arrow = arrow.rotate(cell.gradient_angle(), center=[cell.x+offset,cell.y+offset])\n",
    "            arrow.draw(surface)\n",
    "            \n",
    "            if cell.is_stem:\n",
    "                stem_r = cell.radius / 5\n",
    "                \n",
    "                circle = gizeh.circle(r=stem_r,\n",
    "                                      xy=[\n",
    "                                          cell.x + offset + (cell.radius - stem_r)*np.cos(cell.stem_angle),\n",
    "                                          cell.y + offset + (cell.radius - stem_r)*np.sin(cell.stem_angle),\n",
    "                                      ],\n",
    "                                      fill=(0,0,1))\n",
    "                circle.draw(surface)\n",
    "                \n",
    "            \n",
    "        return surface\n",
    "    \n",
    "    def divide_cells(self):\n",
    "        \n",
    "        new_cells = []\n",
    "        \n",
    "        for cell in self.cells:\n",
    "            new_cell, angle = cell.divide()\n",
    "            self.insert_cell(new_cell, cell, angle)\n",
    "            new_cells.append(new_cell)\n",
    "            cell.checked = False  # Reset all checks for checking correctness later\n",
    "            \n",
    "        self._check_correctness(self.root_cell)\n",
    "        \n",
    "        for new_cell in new_cells:\n",
    "            if self.has_intersection(new_cell):\n",
    "                self.delete_cell(new_cell)\n",
    "            else:\n",
    "                self.cells.append(new_cell)\n",
    "        \n",
    "        self.set_gradients()\n",
    "        \n",
    "    def has_intersection(self, cell):\n",
    "        \"\"\"Return True if cell has an intersection with any of `self.cells`\"\"\"\n",
    "        \n",
    "        for self_cell in self.cells:\n",
    "            lower = abs(cell.radius-self_cell.radius)\n",
    "            centers_dist = ((cell.x-self_cell.x)**2 + (cell.y-self_cell.y)**2)**(.5)\n",
    "            upper = cell.radius + self_cell.radius\n",
    "            \n",
    "            # Circles intersect iff lower <= centers_dist <= upper\n",
    "            if lower <= centers_dist < upper:\n",
    "                return True\n",
    "                \n",
    "        return False\n",
    "        \n",
    "    def delete_cell(self, cell):\n",
    "        \"\"\"Delete a cell from the organism. Don't apply to cells in a center, it won't work well!\"\"\"        \n",
    "        neighbours_to_delete = [neighbour for neighbour in cell.neighbours]\n",
    "            \n",
    "        for neighbour in neighbours_to_delete:\n",
    "            del cell.neighbours[neighbour]\n",
    "        \n",
    "        if cell in self.cells:\n",
    "            self.cells.remove(cell)\n",
    "        \n",
    "        \n",
    "    def _check_correctness(self, cell):\n",
    "        \"\"\"Set correct coordinates to all the cells\"\"\"\n",
    "        cell.checked = True\n",
    "        \n",
    "        for neighbour, angle in cell.neighbours.items():\n",
    "            if not neighbour.checked:\n",
    "                neighbour.x = cell.x + 2*cell.radius*np.cos(angle)\n",
    "                neighbour.y = cell.y + 2*cell.radius*np.sin(angle)\n",
    "                self._check_correctness(neighbour)\n",
    "                \n",
    "                \n",
    "    def insert_cell(self, cell, old_cell, angle):\n",
    "        \"\"\"Insert the `cell` between `old_cell` and all other cells.\n",
    "         \n",
    "        old_cell, angle=0\n",
    "          |\n",
    "          v\n",
    "        O\\ /O     O\\   /O\n",
    "        O-O-O --> O-O-O-O   \n",
    "        O/ \\O     O/   \\O\n",
    "        \n",
    "        Neighbours of the `old_cell` from `angle`-numpy.pi/2 to `angle`+numpy/pi/2 will become the neighbours\n",
    "        of the `cell`.\n",
    "        \"\"\"\n",
    "        neighbours_to_delete = []\n",
    "        \n",
    "        for neighbour, neighbour_angle in old_cell.neighbours.items():\n",
    "            if (angle - np.pi/2) < neighbour_angle <= (angle + np.pi/2):\n",
    "                neighbours_to_delete.append(neighbour)\n",
    "                cell.add_neighbour(neighbour_angle, neighbour)\n",
    "                \n",
    "        old_cell.add_neighbour(angle, cell)\n",
    "                \n",
    "        for neighbour in neighbours_to_delete:\n",
    "            del old_cell.neighbours[neighbour]       "
   ]
  },
  {
   "cell_type": "code",
   "execution_count": 27,
   "metadata": {},
   "outputs": [
    {
     "data": {
      "image/png": "[encoded data removed]",
      "text/html": [
       "<img  src=\"data:image/png;base64,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\">"
      ],
      "text/plain": [
       "<gizeh.gizeh.Surface at 0x2abe1a83dd8>"
      ]
     },
     "execution_count": 27,
     "metadata": {},
     "output_type": "execute_result"
    }
   ],
   "source": [
    "wormy = Organism()\n",
    "wormy.set_gradients()\n",
    "wormy.draw()"
   ]
  },
  {
   "cell_type": "code",
   "execution_count": 28,
   "metadata": {},
   "outputs": [
    {
     "data": {
      "image/png": "[encoded data removed]",
      "text/html": [
       "<img  src=\"data:image/png;base64,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\">"
      ],
      "text/plain": [
       "<gizeh.gizeh.Surface at 0x2abe1a83748>"
      ]
     },
     "execution_count": 28,
     "metadata": {},
     "output_type": "execute_result"
    }
   ],
   "source": [
    "wormy.set_gradients()\n",
    "wormy.divide_cells()\n",
    "wormy.draw()"
   ]
  },
  {
   "cell_type": "code",
   "execution_count": 29,
   "metadata": {},
   "outputs": [
    {
     "data": {
      "image/png": "[encoded data removed]",
      "text/html": [
       "<img  src=\"data:image/png;base64,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\">"
      ],
      "text/plain": [
       "<gizeh.gizeh.Surface at 0x2abe1a837b8>"
      ]
     },
     "execution_count": 29,
     "metadata": {},
     "output_type": "execute_result"
    }
   ],
   "source": [
    "wormy.divide_cells()\n",
    "wormy.draw()"
   ]
  },
  {
   "cell_type": "code",
   "execution_count": 30,
   "metadata": {},
   "outputs": [
    {
     "data": {
      "image/png": "[encoded data removed]",
      "text/html": [
       "<img  src=\"data:image/png;base64,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\">"
      ],
      "text/plain": [
       "<gizeh.gizeh.Surface at 0x2abdf95cba8>"
      ]
     },
     "execution_count": 30,
     "metadata": {},
     "output_type": "execute_result"
    }
   ],
   "source": [
    "wormy.divide_cells()\n",
    "wormy.draw()"
   ]
  },
  {
   "cell_type": "code",
   "execution_count": 31,
   "metadata": {},
   "outputs": [
    {
     "name": "stdout",
     "output_type": "stream",
     "text": [
      "(x: 0, y: 0), 1024 *\n",
      "--------------------\n",
      "(x: 1.469576158976824e-14, y: 240.0), 64.0 \n",
      "--------------------\n",
      "(x: 7.34788079488412e-15, y: 120.0), 256.0 \n",
      "--------------------\n",
      "(x: 2.204364238465236e-14, y: 360.0), 16.0 \n",
      "--------------------\n",
      "(x: 3.67394039744206e-15, y: 60.0), 512.0 \n",
      "--------------------\n",
      "(x: 1.83697019872103e-14, y: 300.0), 32.0 \n",
      "--------------------\n",
      "(x: 1.1021821192326179e-14, y: 180.0), 128.0 \n",
      "--------------------\n",
      "(x: 2.5717582782094422e-14, y: 420.0), 8.0 \n",
      "--------------------\n"
     ]
    }
   ],
   "source": [
    "for cell in wormy.cells:\n",
    "    print(cell)\n",
    "    print('-'*20)"
   ]
  },
  {
   "cell_type": "code",
   "execution_count": null,
   "metadata": {},
   "outputs": [],
   "source": []
  },
  {
   "cell_type": "code",
   "execution_count": null,
   "metadata": {},
   "outputs": [],
   "source": []
  },
  {
   "cell_type": "code",
   "execution_count": null,
   "metadata": {},
   "outputs": [],
   "source": []
  },
  {
   "cell_type": "code",
   "execution_count": null,
   "metadata": {},
   "outputs": [],
   "source": []
  },
  {
   "cell_type": "code",
   "execution_count": null,
   "metadata": {},
   "outputs": [],
   "source": []
  }
 ],
 "metadata": {
  "kernelspec": {
   "display_name": "Python 3",
   "language": "python",
   "name": "python3"
  },
  "language_info": {
   "codemirror_mode": {
    "name": "ipython",
    "version": 3
   },
   "file_extension": ".py",
   "mimetype": "text/x-python",
   "name": "python",
   "nbconvert_exporter": "python",
   "pygments_lexer": "ipython3",
   "version": "3.6.5"
  }
 },
 "nbformat": 4,
 "nbformat_minor": 2
}
