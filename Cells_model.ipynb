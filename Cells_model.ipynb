{
 "cells": [
  {
   "cell_type": "code",
   "execution_count": 135,
   "metadata": {},
   "outputs": [],
   "source": [
    "from collections import namedtuple\n",
    "\n",
    "import gizeh\n",
    "import numpy as np"
   ]
  },
  {
   "cell_type": "code",
   "execution_count": 136,
   "metadata": {},
   "outputs": [],
   "source": [
    "def get_neighbour_concentration(angle, concentration):\n",
    "    return concentration * abs(np.pi - angle) / (2*np.pi)"
   ]
  },
  {
   "cell_type": "code",
   "execution_count": 189,
   "metadata": {},
   "outputs": [],
   "source": [
    "class Cell:\n",
    "    MAX_CONCENTRATION = 1024\n",
    "    \n",
    "    def __init__(self, x, y, radius, is_stem=False, stem_angle=None):\n",
    "        self.x = x\n",
    "        self.y = y\n",
    "        self.radius = radius\n",
    "        self.is_stem = is_stem\n",
    "        self.neighbours = {}\n",
    "        self.checked = False\n",
    "        self.gradient = {x:None,\n",
    "                         y:None}\n",
    "        \n",
    "        if self.is_stem:\n",
    "            self.stem_angle = stem_angle\n",
    "            \n",
    "        if self.is_stem:\n",
    "            self.concentration = Cell.MAX_CONCENTRATION\n",
    "        else:\n",
    "            self.concentration = None\n",
    "            \n",
    "    def __repr__(self):\n",
    "        return '(x: {x}, y: {y}), {c} {stem}'.format(x = self.x,\n",
    "                                                     y = self.y,\n",
    "                                                     c = self.concentration,\n",
    "                                                     stem = '*' if self.is_stem else '')\n",
    "            \n",
    "    def set_gradient(self):\n",
    "        self.checked = True\n",
    "        if self.is_stem:\n",
    "            self.concentration += Cell.MAX_CONCENTRATION\n",
    "            \n",
    "            stem_angle = (self.stem_angle + np.pi) % (2*np.pi)\n",
    "            self.gradient['x'] += self.concentration * np.cos(stem_angle)\n",
    "            self.gradient['y'] += self.concentration * np.sin(stem_angle)\n",
    "            \n",
    "        for neighbour, angle in self.neighbours.items():\n",
    "            angle_to_gradient = self.gradient_angle() - angle\n",
    "            \n",
    "            influence = get_neighbour_concentration(angle_to_gradient, self.concentration)\n",
    "            \n",
    "            if not neighbour.checked:\n",
    "                neighbour.concentration += influence\n",
    "                neighbour.gradient['x'] += self.gradient['x']\n",
    "                neighbour.gradient['y'] += self.gradient['y']            \n",
    "                neighbour.set_gradient()\n",
    "        \n",
    "        \n",
    "    def add_neighbour(self, angle, neighbour):\n",
    "        self.neighbours[neighbour] = angle\n",
    "        neighbour.neighbours[self] = (np.pi + angle) % np.pi\n",
    "        \n",
    "    def gradient_angle(self):\n",
    "        return np.arctan(self.gradient['y'] / self.gradient['x'])\n",
    "        \n",
    "    def divide(self):\n",
    "        \"\"\"Return a new neighbour of the cell in the direction of the gradient\"\"\"\n",
    "        return Cell(None, None, self.radius), self.gradient_angle() # x and y don't matter now"
   ]
  },
  {
   "cell_type": "code",
   "execution_count": 190,
   "metadata": {},
   "outputs": [],
   "source": [
    "class Organism:\n",
    "    def __init__(self):\n",
    "        self.cells = [Cell(x=0, y=0, radius=30, is_stem=True, stem_angle=-np.pi/2)]\n",
    "        self.root_cell = self.cells[0]\n",
    "        \n",
    "    def reset_checks(self):\n",
    "        \"\"\"Set `cell.checked` attribute of each cell to False\"\"\"\n",
    "        for cell in self.cells:\n",
    "            cell.checked = False\n",
    "        \n",
    "    def set_gradients(self):\n",
    "        \"\"\"Set all the gradients and concentrations for `self.cells`\"\"\"        \n",
    "        stem_cells = []\n",
    "        \n",
    "        for cell in self.cells:\n",
    "            cell.concentration = 0\n",
    "            cell.gradient = {'x': 0,\n",
    "                             'y': 0}\n",
    "            if cell.is_stem:\n",
    "                stem_cells.append(cell)\n",
    "        \n",
    "        for cell in stem_cells:\n",
    "            self.reset_checks()\n",
    "            cell.set_gradient()\n",
    "        \n",
    "    \n",
    "    def draw(self):\n",
    "        \"\"\"Draw the organism\"\"\"\n",
    "        surface = gizeh.Surface(width=500, height=500)\n",
    "        \n",
    "        offset = 250\n",
    "        \n",
    "        for cell in self.cells:\n",
    "            circle = gizeh.circle(r=cell.radius,\n",
    "                                  xy=[cell.x + offset, cell.y + offset],\n",
    "                                  fill=(cell.concentration/Cell.MAX_CONCENTRATION, 0, 0),\n",
    "                                  stroke=(0,0,0),\n",
    "                                  stroke_width=2)\n",
    "            circle.draw(surface)\n",
    "            \n",
    "            # draw the gradient of the cell as an arrow\n",
    "            triangle = gizeh.regular_polygon(r=cell.radius/5, n=3, angle=0,\n",
    "                                             xy=[cell.x+offset+.7*cell.radius*cell.concentration/Cell.MAX_CONCENTRATION,\n",
    "                                                 cell.y+offset], fill=(1,1,1))\n",
    "            \n",
    "            line = gizeh.polyline(points=[(cell.x+offset, cell.y+offset),\n",
    "                                          (cell.x+offset+.7*cell.radius*cell.concentration/Cell.MAX_CONCENTRATION,\n",
    "                                           cell.y+offset)],\n",
    "                                           stroke_width=3, stroke=(1,1,1))\n",
    "            \n",
    "            arrow = gizeh.Group([triangle, line])\n",
    "            arrow = arrow.rotate(cell.gradient_angle(), center=[cell.x+offset,cell.y+offset])\n",
    "            arrow.draw(surface)\n",
    "            \n",
    "            if cell.is_stem:\n",
    "                stem_r = cell.radius / 5\n",
    "                \n",
    "                circle = gizeh.circle(r=stem_r,\n",
    "                                      xy=[\n",
    "                                          cell.x + offset + (cell.radius - stem_r)*np.cos(cell.stem_angle),\n",
    "                                          cell.y + offset + (cell.radius - stem_r)*np.sin(cell.stem_angle),\n",
    "                                      ],\n",
    "                                      fill=(0,0,1))\n",
    "                circle.draw(surface)\n",
    "                \n",
    "            \n",
    "        return surface\n",
    "    \n",
    "    def divide_cells(self):\n",
    "        \n",
    "        new_cells = []\n",
    "        \n",
    "        for cell in self.cells:\n",
    "            new_cell, angle = cell.divide()\n",
    "            cell.add_neighbour(angle, new_cell)\n",
    "            new_cells.append(new_cell)\n",
    "            cell.checked = False  # Reset all checks for checking correctness later\n",
    "        \n",
    "        for new_cell in new_cells:\n",
    "            self.cells.append(new_cell)\n",
    "            \n",
    "        self._check_correctness(self.root_cell)\n",
    "        self.set_gradients()\n",
    "        \n",
    "        \n",
    "    def _check_correctness(self, cell):\n",
    "        \"\"\"Set correct coordinates to all the cells\"\"\"\n",
    "        cell.checked = True\n",
    "        \n",
    "        for neighbour, angle in cell.neighbours.items():\n",
    "            if not neighbour.checked:\n",
    "                neighbour.x = cell.x + 2*cell.radius*np.cos(angle)\n",
    "                neighbour.y = cell.y + 2*cell.radius*np.sin(angle)\n",
    "                self._check_correctness(neighbour)"
   ]
  },
  {
   "cell_type": "code",
   "execution_count": 191,
   "metadata": {},
   "outputs": [
    {
     "data": {
      "image/png": "[encoded data removed]",
      "text/html": [
       "<img  src=\"data:image/png;base64,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\">"
      ],
      "text/plain": [
       "<gizeh.gizeh.Surface at 0x7fe0b9567550>"
      ]
     },
     "execution_count": 191,
     "metadata": {},
     "output_type": "execute_result"
    }
   ],
   "source": [
    "wormy = Organism()\n",
    "wormy.set_gradients()\n",
    "wormy.draw()"
   ]
  },
  {
   "cell_type": "code",
   "execution_count": 192,
   "metadata": {},
   "outputs": [
    {
     "data": {
      "image/png": "[encoded data removed]",
      "text/html": [
       "<img  src=\"data:image/png;base64,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\">"
      ],
      "text/plain": [
       "<gizeh.gizeh.Surface at 0x7fe0b95675f8>"
      ]
     },
     "execution_count": 192,
     "metadata": {},
     "output_type": "execute_result"
    }
   ],
   "source": [
    "wormy.set_gradients()\n",
    "wormy.divide_cells()\n",
    "wormy.draw()"
   ]
  },
  {
   "cell_type": "code",
   "execution_count": 193,
   "metadata": {},
   "outputs": [
    {
     "data": {
      "image/png": "[encoded data removed]",
      "text/html": [
       "<img  src=\"data:image/png;base64,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\">"
      ],
      "text/plain": [
       "<gizeh.gizeh.Surface at 0x7fe0b95672b0>"
      ]
     },
     "execution_count": 193,
     "metadata": {},
     "output_type": "execute_result"
    }
   ],
   "source": [
    "wormy.divide_cells()\n",
    "wormy.draw()"
   ]
  },
  {
   "cell_type": "code",
   "execution_count": 194,
   "metadata": {},
   "outputs": [
    {
     "data": {
      "image/png": "[encoded data removed]",
      "text/html": [
       "<img  src=\"data:image/png;base64,iVBORw0KGgoAAAANSUhEUgAAAfQAAAH0CAYAAADL1t+KAAAABmJLR0QA/wD/AP+gvaeTAAAgAElEQVR4nO3deZRdZZ2v8efUqaQyEzIhMkkgYRLBAUkDjdji7V6svg2otLMi7e27HBd0920FRaOybKfmKoo2tMOS1ka4iuC9CxEbUFGZCZOBMASZREIwZKqkprPvH+/OOacykKRS+333Ofv5rLXDrlNF7d+utU596333O4AkSZIkSZIkSZIkSZIkSZIkSZIkSZIkSZIkSZIkSZIkSZIkSZIkSZIkSZIkSZIkSZIkSZIkSZIkSZIkSZIkSZIkSZIkSZIkSZIkSZIkSZIkSZIkSZIkSZIkSZIkSZIkSZIkSZIkSZIkSZIkSZIkSZIkSZIkSZIkSZIkSZIkSZIkSZIkSZIkSZIkSZIkSZIkSZIkSZIkSZIkSZIkSZIkSZIkSZIkSZIkSZIkSZIkSZIkSZIkSZIkSZIkSZIkSZIkSZIkSZIkSZIkSZIkSZIkSZIkSZIkSZIkSZIkSZIkSZIkSZIkSZIkSZIkSZIkSZIkSZIkSZIkSZIkSZIkSZIkSZIkSZIkSZIkSZIkSZIkSZIkSZIkSZIkSZIkSZIkSZIkSZIkSZIkSZIkSZIkSZIkSZIkSZIkSZIkSZIkSZIkSZIkSZIkSZIkSZIkSZIkSZIkSZIkSZIkSZIkSZIkSZIkSZIkSZIkSZIkSZIkSZIkSZIkSZIkSZIkSZIkSZIkSZIkSZIkSZIkSZIkSZIkSZIkSZIkSZIkSZIkSZIkSZIkSZIkSZIkSZIkSZIkSZIkSZIkSZIkSZIkSZIkSZIkSZIkSZIkSZIkSZIkSZIkSZIkSZIkSZIkSZIkSZIkSZIkSZIkSZIkSZIkSZIkSZIkSZIkSZIkSZIkSZIkSZIkSZIkSZIkSZIkSZIkSZIkSZIkSZIkSZIkSZIkSZIkSZIkSZIkSZIkSZIkSZIkSZIkSZIkSZIkSZIkSZIkSZIkSZIkSZIkSZIkSZIkSZIkSZIkSZIkSZIkSZIkSZIkSZIkSZIkSZIkSZIkSZIkSZIkSZIkSZIkSZIkSZIkSZIkSZIkSZJUCrXUBUgaF7sDxwOHAwcDBwGzgZnA1Pxr1gOrgOeAB4EHgHuAXwHPR65XkiTlFgKfAW4HhoGsdfRl8OEMbs5gXX7cnMGH8s+1fy3DwG3Ap4AFSe5EkqSK6QXeCdxEWyj3QfYayD4C2ZfYKzuQuzLItnosYEn2JfbKPpL/P32jwz0Dfgu8I7+WJEkaR73A3wOPkAfvDMjOgOznkPXnab2RvuyIFwjzTceRLMk20pdl+f97LWTvyb8nreNh4L1APdldS5LURY4B7iIP2oMh+3ZbiLcfX+HD2w3zTcdX+eAWL/ZD9i3IDhod7HcCixLevyRJHW0ScCHQALIDILsMspEXSOlXc8sOB/oibtrmJ0cguxSy/VuhPgJcAPQl/HlIktRxFgJLyJ9xf2IbLfLNj2ms3eFAn8ba7X5RP2QfH/2c/Q7gwKQ/GUmSOsQJhGlk2ULI7trRhN7JQJ/B6h3+vndCdmAr1FcRpshJkqRtOBXYAGSnQbZmJ8J8PLvct3ashuwNrVDfAJyS9CclSVJJnUo+n/zDvPCz8m0dF/ChHf7yrQ2K294xAtkHGDV/3VCXJKnNCeQt80+MIcg3HRvpy45kyXa/9EiWZANMHPN1Pj66pW73uyRJhAFwq4HsQ7sQ5puOJ9nrBUP9SJZkT7LXLl+nraW+Cjgg6U9QkqTEJpGPZn/TGLvZt3YMMDH7Kh/MFnFTNo212TTWZn/Gb7Ov8sFdaplv3v3e9kz9dpzSJkmqsAshjGbf2QFwZThWM2r0+wWJf5aSJCVxDNDoY+emppXtuIPmPPUR4OjEP1NJkqKqk3e1f7IEobyrxzmtVvrduKmLJKlC/h7Ccq47sgJc2Y/1kL2kFep/l/ZHK0lSHL3ku6ZdXoIwHq/jP1uB/hDu0CZJqoB3QNg1bbxGtZfhGIZsQSvU35b4ZyxJUuF+C2TfKUEIj/fxzVag/zrxz1iSpEItABozCM+dUwfweB/rIZveCvUFiX/WUqX0pC5Aqph3ArXTgCmpKynAFOANrQ/fmqwQqYIMdCmukwDekrqKArXd20npqpCqp5a6AKlCZgIr+6C+CpicupqC9AOzgIGw0Mwcwt7ukgpmC12K53igvojuDXMI3e6vDqd14LiUtUhVYqBL8RwBsCh1FRG03eMR6aqQqsVAl+I5CODg1FVEsHCrp5KKZKBL8Sxs/tPl2v5oOShdFVK1GOhSPPMA9kpdRQQvbp3OS1eFVC0GuhTP9OY/XW5G67QKtyuVgoEuxTOt+U+Xm77VU0lFMtClbrZ4cWth1sWLU1cjqUAGuhTPuuY/XW5N63RtuiqkajHQpXjWNP/pcmu3eiqpSAa6FM+zAE+lriKCtntcka4KqVoMdCmeB5v/dLllWz2VVCQDXYpnWfOfLvfgVk8lFclAl+K5G+Dm1FVEcFPr9O50VUjVYqBL8fwKGLmJsMVot+oHbg2nw4R7lhSBgS7F8zywZBD4depKCvQLYDCc3kE1BvVLpWCgS3FdDfCD1FUU6LLW6dXpqpCqx0CX4voPIPsR3dnt3g9cEU4z4Pspa5GqxkCX4noYuHkNo1qyXeNSmivh/QZ4JGUtUtUY6FJ8Xwf4PDCSuJDxNEK4p9zXkxUiVZSBLsX3A+CRZcAPU1cyjn4APBROHwIuT1mLVEUGuhTfMPA5gLOBDWlrGRfrgXNaH36W7up8kDqCgS6l8R1gyaOE9Ot05wGPh9M7CAP/JEVmoEtpjADvBxpfBJYkLmZX3A6cH04bwPuwdS4lYaBL6dwMXDgA/C2duQLLauDNNBeSuQC4LWE5kiQl00fops7eANkIZNmuHJMmZdny5dl2PfZYlk2ZskvXGobs5DDfPCOs9jox6U9SkqTEDgRWAdkHdjXQIcve9KbtB/ob37jL13lfK8yfA/ZP+hOUJKkkjicMeM8+Ph6hfsMN2w7zG2/Mslptl77/x/Iwr4Waj0v7o5MkqVxOIUxpyz6wq93vhx2WZUNDW4b58HCWHXHELnWzt7XMh4CTk/7EJEkqqVPIW+pvgGz1roT6v/3bloH+jW+M+fs9z6hn5v0Y5pIkvaDjyZ+pHwjZHWMN9Fmzsuy551phvmpVls2dO6bvdRtk81th/ifsZpckaYccQJjinfXlz6zXjyXUzzqrFehnnrnT//96yD4K2URGjWZ3AJwkSTuhD/gKYaGW7CWQ/Wf+HHuHQ7m3N8vuuy/L7r8/yyZM2Kln5d+DbL9WkI8A/xunpkmSNGZHk89VB7IFkH0TsnU7GuonnRSOHfjadfn3XtAK8oywWMxRCe9fkqSuUQfOIOxklgHZdMjeDdlPdybctxHiV0P2LsimjQ7yB4HTcUVJqSPUUhcgaafUgbcQ1kw/hvw9PJHQjF8EHJQfLwZ2A6bn/+NawlKtTwHLCGl9E3ALYf5ZLgN+C1xI2ALVddklSSrYAcAnCZk8zOjW9c4cQ4RsPxeYH/UOJEkSZxB2LR1h7GHePujt94QudkkdyC53qbNMA35CmKte3/RiHdgH2BuYDczJv3ASrWHpg8BGYB2wkrAA+5PAE2zRrz4C/JKwcMy6gu5D0jgz0KXOMA34L+DV5O/bPuBQ4HBCmE8Y4zceIjTz7wOWAgOtT2WELV5fR1i9TlKJGehS+X0B+Efy0eZzgGOBlzL2EN+WIUKw/4bQis81gM8D54zz5SSNIwNdKq89CI3mWeT/vI7QKi/6jZsBvwOuI6xBm1uZX/7Zgi8vaQwMdKmczgD+HeipExZOP47xb5FvzxBwI6HFnj9nbwDvAS6JXIqk7ahv/0skRfY14DygNht4J+E5eYo3a52wcPtC4FFgQ2gEnArsDlyToCRJ22ALXSqXKwiByWHA3xAGv5XBAHAlcH/rpSuANyYqR9JmbKFL5dEM86MJYd6btJzRegl/ZGwgrDYHHAK8jLCinKTEDHSpHL4GvAvgNcDrKWf3WQ1YQHiQ/lh46RDsfpdKwUCX0juD8MycowlhXnb7A/00W+qLgIeBe9NVJKmMjQCpSvYA/gD0HAqcRue8KTNCX3v+TL0BvAintEnJuC2ilNZSoGc2YZ3VTglzCLWeQj5JPvwuWZqwHKny7HKX0vkCcGKdMDVtZuJixqIX2Be4C8hgCmGq/PVJi5IqqpMaBFI3mUzY+KTnBOCEhIWMh+sIC9AQeuJn4KYuUnR2uUtp3AD0zCKsy97pjqfZw1ADfpayFqmqDHQpvmmEXdN4HfGXcy3CBMK95P6M0AMhKSIDXYrvKqA2h7DTSbc4jLAXO6GVflXKWqQqMtCl+F4DYbOVbhrE0sOoxwd/kawQqaIMdCmu04F6H6FF220OByaG0zrhXiVFYqBLcX0KQph3w7PzzU1g1GOETyQrRKogA12Ka2+Al6auokBt97Zvuiqk6jHQpXgOB3rqwD6pKynQfjRXrKoT7llSBAa6FM+5EMK8G7vbN5lA3g0RnJOsEKliDHQpnlfCqLDrWm33eFS6KqRqMdClePYAmJO6ighmt07npatCqhYDXYpnMowKu67V9kfLlHRVSNVioEvx9ABMT11FBG336O8YKRLfbFJkfakLiKDtHrtpMTyp1Ax0KbKJqQuIoAr3KJWNgS51sRMWL+aTWcYns4wTFi9OXY6kAhnoUmSDqQuIYCB1AVIFGehSPBlUI+za/mjJ0lUhVYuBLsWTAaxJXUUEbffYSFeFVC0GuhTPBoDnUlcRQds99qerQqoWA12K5xmoXKCvSFeFVC0GuhTPHQBPpq4igidap7elq0Kqlt7UBUgV8hngtCeAIYrZca3e18fRH/4wtZ7wt/o+xx7b/Nw+xx7LsR/5CABZo8EtF1zAyMD4D9EbAp5qffipcb+ApK0y0KV47gUaI9DzOHBAARcYGRhgzsEH8/Izztjic/NPPJH5J54IwJJvfauQMAf4PTCSlwM8UMhFJG3BLncpricA7ivwAtedfTYDq1dv8/ODa9dy/bnnFnb9tnt7vLCLSNqCgS7F9QmApYSu6SKsX7GCG//lX7b5+V+ddx7rnn66kGsPAfe3PizurwZJW3DjBCm+YaB+MvDygi5QnziR9917L7MXLhz1+qpHHuHCww4rrLv9TuAn4XQEH+lJUdlCl+L7JcBvKG7VlZHBQX7+z/+8xes/+4d/KCzMG4R7yl1XyEUkbZOBLsV3MpCtJHS9F2XZVVfxyM9+1vz40euuY9lPflLY9e6jOf88A04p7EKStspAl+JbB9wMoRlb1LN0gGvOOovG0BDZyAjXnHVWYdcZZFST/EbyVfEkxeMzLimN1wHrVkHPjcBfFHSRlfffz+0XXQRZxop77y3oKvArIB9X3wD+qrALSdqmeuoCpIoaBiYBf/4ksBCYXtCFnrrlFn7/i18wvKGYRvMfCAPh8m3VPg38VyEXkvSCHOUupfUsMGcW8D+BvsTF7KyNwEXAqvDhCmCPhOVIleYzdCmtQ4HGn4Ar6azNwxuEmle1PjwkYTlS5dnlLqXVT1gt9dSVhJFkC5KWs+OuBu5pffhW4PZUtUgy0KUyuBvYHVj0FKGpu3/aerbreuCm1ofn54ekhAx0qRyuAV4GHPIYodl+IOUb5NIgtMzbwvyHwHsTlSOpjYEulcfl5KH+FGGE2QLKM7d0I/AjRnWz/xA4LVE5kjZjoEvlcjl59/umleT2pbgpbTvqD8AlwJOtl87HlrlUKmXr0ZMUvJ2QoT114Fjgz4EJkYsYIiw8fxPNPc4bwNuAyyKXImk7DHSpvOYSGulzAGYSlpc7jOLnmzYIa7NfDzzfenkFYWranwq+vKQxsMtdKq9+4IuEhvlxG6F2PyFoJwCzGf838CBhyP2PCFuhbgwvNwgrwP01rtEulZYtdKkzTAauJfS+1wAmElaleSnhOfvEMX7jQeAxwh8K9+cf5zLCRiuvH/2ypDIy0KXOMpmwdPpraWug14G982M2oY9+OmEp2U3LyQ7kxxrCNqfPAU8QBrptti/7CGHztFOwRS5JUuHeDjxKCOBsF49h4BHCim+SOpBruUudq4/xe4xey79Xp+0PIylnl7vUWaYRutyPpy3Me4AZ+TEZmEJ4pj6B1l/tDcI0tEHCaLsNhO73NWy1y/2XwMnAuoLuQ9I4M9ClzjCNsM/4q8nft3VgXn7sxti72xrAauAZwl6uI61PZcDNhNlyPkuXSs5Al8rvC8A/kmf2FMKo9nmM/zOzBiHYnyC04tte/jxwzjhfTtI4MtCl8tqDsLDMLAhd6fsTVpsp+o2bEVrry2nORQdYSZgp92zBl5c0Bg6Kk8rpDMIS6rN6gJcARxFa5TH+Cq/l13o1sB/NXxRzgD8C74pQgqSd5EpxUvl8DTgPqE0hbL8WK8g3VyPsFDMbWAUMh5dOzV++JkFJkrbBLnepXK4gBCZzgYMpz1/dw8AyRvW3XwG8MVE5kjZTlt8VktrCfG/gIMr1TKyH8EfGMLA2vHQIoQPh8mRFSWoy0KVy+Br5s+mXAPMpZ/dZjdD9nhGmuhFC3e53qQQMdCm9MwjPzNkLOCBtLTtkd8IiNXlLfRHwMHBvuooklbERIFXJHoTR7D1zCXPCOuVNmRHm1OXP1BvAi3BKm5RMmR7RSVW0FOiZQhgA1ylhDqHWgwjz4wm/S5YmLEeqPLvcpXS+AJzYQxhZNilxMWPRQ1h29hkgC4vYTQCuT1qUVFGd1CCQuslkwsYnPS8hDITrZI8Cj4XTjLBHjJu6SJHZ5S6lcQPQM5mwLnun25dmD0MN+FnKWqSqsoUuxTeNsGtp7TDC3O5usILmQ/QMmIo7tElR2UKX4ruKfFnXOakrGUdzaQ6QqxHuUVJEttCl+IaB+sGEeV7d5GnC8rCEbdV7U9YiVY0tdCmu04F6ne7pam83j+bUmTrhXiVFYgtdiusxYN89CXO4u9EDhD1WCYPf56esRaoSW+hSXHtDaMl2q7Z764YB/FLHMNCleA4HejYtxtKtdqP5i6VOuGdJERjoUjznQlh1pZvfeHVgeuvDc5IVIlVMN/9ekcrmlRACvdu13eNR6aqQqsVAl+LZA8KC592u7R67ebiAVCoGuhTP5OY/XW7KVk8lFclAl+LpAehLXUUEE1un/o6RIvHNJkVWhT2L25aIc60LKRIDXYqsCoFehXuUysZAl7rY6YsXc0OWcUOWcfrixanLkVQgA12KbCR1ARFU4R6lsvH5lhRPA6gtAiYVdIGJkyZx7qWXMnnaNABePH8+e84Py6k/vXw5f1i+HIAN69bxmbe+lcGNGwupYwNwSzjNsOEgReH2hlI8GVAboLhAH9y4kQduvZX3fvazW3xuz7Zw//ezzy4szAEGW6eNwi4iaRRb6FI864CpRe+D3jtxIt+57z72XrBgq59/evlyTj/ssEIDvW1f9LVUY3E8KTm7wqR4ngHoL/giw4ODXPzRj27z89/4p38qNMxh1D2uKPRCkpoMdCmeOwDWRLjQjVdcwe3XXrvF60uuv54bf/zjwq/fdo+3FX4xSYBd7lJMhwP31IDjKH6u9n6HHsq37r6bem8YKtMYGeF/vOIVLL/nnkKvOwL8mjBgADgEeKDQC0oCbKFLMd0LNDJgdYSLPbZ0Kf/v4oubH//fiy4qPMwBnqcZ5iMY5lI0ttCluH4P7Pci4OAIF5s+axbfe/BBaj09vHPhQlavXFn4NR8A/hhOHwXmF35BSYArNEqx/Qk4dQOwN8V3kQ1u2MDQwAB3/eIX3HXDDQVfLTTJl9FsoX+I0CshKQJb6FJ8w0C96Olrm/ROmBAuOjRU+LXapquN4DoXUlQ+Q5fi+yXA4zRbsoUaHhqKEuYZ4Z5y1xV+QUmj2EKX4ptGmNlVOxSYl7iY8fIMcH84zYCphBVgJUViC12Kbx1wM8ByumNt1BHCCLjcjRjmUnS20KU0JhOCvWc/YP/Exeyq5TS72xuEHggDXYrMFrqUxgbg8wBPEJK9U60l3EPuMxjmUhK20KW0ngXmTAZeSecNCx8mrGebJ/gKYI+E5UiVZgtdSutQoLGBUfO3O0JGWEQmD/MGYZlXSYkY6FJazwLv2XTycNpadspDQNu6c28jLJojKRFXipPSuxvYHVi0ltDy3T1tPdv1KPBk68Pz80NSQga6VA7XAC8DDlkNDAGzKN8gl4zQMm8L8x8C701UjqQ2BrpUHpeTh/paoJ8Q6mV5LjZMWDjmmdZLPwROS1SOpM0Y6FK5XE7e/d5PeK6+G9CXtKQwNe0ewvJ2ufOxZS6VStl69CQFbwcuAXp6gH2AfYn/F/gI8Bhhnnk+Ar9BGAB3WeRSJG2HgS6V11xgKTAHYBJhc/G5FP/GzQiTyh8FNrZeXkGYmuZodqmE7HKXyqsf+CIwAThuGGrPElK1Dkxh/J+vjxCekS8lbIU6HF5uAJ8G/hpXgZNKyxa61BkmA9cCx5K/b+uE1vo8wnP2sf51PgKsJvyh8Gz+cS4jbLTyemBwjN9eUiQGutRZJgM/AV5LW4bXgBn5MSU/JhKWkt30RSOEFvcgoenfTxjktoYtVqgbIexnfgq2yCVJKtzbCY+5RwiZvCvHMPAI8NaodyBp3PgMXepcA4TG+TTgRYy9x60BLAF+RFjgxkFvUgeyy13qLL2EVvT7gUWbXqwR5qr3EUbQTSD8td5D602eEZJ7hLAS3RDhL4IBtuhyvwn4OvADmuPiJJWdgS51hl7gDOAjhNlr9BCelU8lTGkb65s5I0xNW094rt5ofeoR4HPAdxg1Vk5SGRnoUvkdQ2gxHwGh9b0bIcjH+w2cEYJ903ryuSWEHoGbx/lyksaRgS6V1yTgX4H3AbVewpqwUyNdfD2wilFz0S8E/hehl15SyRjoUjktJCyvemSN0CLfjfhv2IzQWl9N8zn7ncCb6ayt26VKMNCl8jkBuBLYbQJh8ZiJScsJc9efpdkN/zxwMvCrdBVJ2pzT1qRyORX4MTBtKmEVuN609QDhF8U0mqPjJxFG2v8OeCBlXZJabKFL5XEq8H+A+gzCXuhl9BxhO1XCyPc3EXoTJCVmoEvlcALwU2DSTGBm2lq26/n8IMx4+0vsfpeSM9Cl9BYCtwEzytwy31xbS/154FWEeeuSEhnv3Rcl7ZxJhNHsM6bSOWEOMJuwsA2hQ+EywkJ1khJxUJyU1leA/z6BMACu07rMJtNcXe7FhJl1P01bkVRdnfb7Q+omxwC/rkFtT9JPTRurQeBpIAuLzxwD3JK2Iqma7HKX0qgTVl6r7UbnhjmE2meE0x7gYsox006qHANdSuPvgCN7Cf3UnW4mzRR/GfDulLVIVWWXuxRfL7AMmD+XeGuzF209YTU5wrKwB+MObVJUttCl+N4CzJ9A94Q5hHuZEE4PJKz3LikiA12K7/3QHV3tm2u7p/enq0KqJgNdimsBsKiH7mqdbzKV5i+VYwn3KikSA12K651AbQrdOYClRnOxGQgbuEiKxECX4joJurN1vknbvZ2UrgqperqxkSCV1UxgZQ3q+9K9b74MeDz8dwSYQ3MfF0lFsoUuxXM8UO+je8Mcwr3li7rXgeNS1iJViYEuxXMEVGMHk7Z7PCJdFVK1GOhSPAdBc652V2tb+3VhuiqkajHQpXgWQjUCve0eD0pXhVQtBroUzzyoxp7FbS30eemqkKrFQJfimQ7VeNO1Dfqbnq4KqVrc5lCKZxoUO8J98pQpnPKOd+zQ1175ve+xob+/kDra/mgx0KVIDHSpi2zo7+e1J53E608++QW/7torr+TSiy+OVJWkGLp5OqxUNs8Bs/al2G73fefP5+dLlzKxb+sT5IYGB/lvL30pv3/oocJqGAGeCKcrgbmFXUhSUxUe50llsQagUfBFHl++nG9/+cvb/Pw3zz+/0DCHsFpcbm2hF5LUZAtdiudW4Kg9KX5xmanTp3P9smXM23PPUa+vfOYZXrtwIevWrCn0+huBP4bTW4BFhV5MEmALXYrpQYChCBdav3YtX/rYx7Z4/fMf/WjhYQ6j7nFZ4ReTBBjoUkzLIE6gA/zou9/l7ltvbX583513csUll0S59nDr9MEoF5RkoEsR3Q0wEOlijUaDT595JlmWkWUZnz7zTBqNop/gB233eHeUC0ryGboUUZLtU7/8/e+TZRln7eD89F3Vtn3qMDCbfDCgpGIZ6FJctwGv2gOYHOmCe+6zDwBPP/FElOttAJ4Jpw6IkyJyYRkprquBV60nXqDHCvJN1rdOr456YanifIYuxfUfQNbPqLnaXSOjGegZ8P2UtUhVY6BLcT0M3NxgVEu2a6yn+YfKb4BHUtYiVY2BLsX3dYDVqasoQNs9fT1dFVI1OShOiq8XeAA4YC4wNXEx42U98Gw4fQg4hLCku6RIbKFL8Q0DnwNYRXc8S88I95L7LIa5FJ0tdCmNOmEK28tnEiaod7JVNLvb7wCOxkCXorOFLqUxArwfaKwGBhMXsysGaK4c0wDeh2EuJVFPXYBUYU8Cc4CjNwLT6LwuswZhEZl8QdmvAN9OWI5UaZ32+0PqNn3Ab4FXTAHmJS5mZ60A+sPpbcBxdHZng9TRDHQpvQMJgThzOmHx807wHLA2nP4JeBXwaMJypMrzGbqU3sPAycDGtcDziYvZEatohvlGQu2GuZSYz9ClcngM+B1w2kboGQGmJC5oW56jOQhuGPhb4OcJy5GUM9Cl8ngAuAc4ZRB6BwkbuJTluViDsHBMvmTtBuDNwFXpKpLUriy/KyS1HE8IypkTgLnAxLT1MEAI8+Hw4Srgb4Bfp6tI0uYMdKmcDgAuA15ZA2YQFp+J/YbNCM/019Bc0e42QsvcZ+ZSydjlLpXTKuC7hCw/agBq6wlv2Fit9fWEaWkbwocNwjzztxEeo0sqGVvoUvkdTdi97BUAE4DdCJu6jPcbeNN+5quBodbLtxNWtbttnC8naRwZ6FJnqAPvBs4mzFunhzASfiowibG/mTPC3LP1jNrPHMKuaZ8FLqG5GJykslx5SaUAAADySURBVDLQpc5SB95CWDP9GPL3cI2w5FwfoQXfmx89tN7kGSGVhwmt72HCYLcBRoV4Rli57kLgclyXXZKkwh0AfBK4hZDP2RiPIeAm4FxgftQ7kDRubKFL3WE3wnS3w4GDgYMIG7/MJOz7ArCOMGh9JWHO+zLgXuCXNNeKkSRJkiRJkiRJkiRJkiRJkiRJkiRJkiRJkiRJkiRJkiRJkiRJkiRJkiRJkiRJkiRJkiRJkiRJkiRJkiRJkiRJkiRJkiRJkiRJkiRJkiRJkiRJkiRJkiRJkiRJkiRJkiRJkiRJkiRJkiRJkiRJkiRJkiRJknba/wcE+9+3YZFcCAAAAABJRU5ErkJggg==\">"
      ],
      "text/plain": [
       "<gizeh.gizeh.Surface at 0x7fe0b95670b8>"
      ]
     },
     "execution_count": 194,
     "metadata": {},
     "output_type": "execute_result"
    }
   ],
   "source": [
    "wormy.divide_cells()\n",
    "wormy.draw()"
   ]
  },
  {
   "cell_type": "code",
   "execution_count": 195,
   "metadata": {},
   "outputs": [
    {
     "name": "stdout",
     "output_type": "stream",
     "text": [
      "(x: 0, y: 0), 1024 *\n",
      "--------------------\n",
      "(x: 3.67394039744206e-15, y: 60.0), 512.0 \n",
      "--------------------\n",
      "(x: 3.67394039744206e-15, y: 60.0), 512.0 \n",
      "--------------------\n",
      "(x: 7.34788079488412e-15, y: 120.0), 256.0 \n",
      "--------------------\n",
      "(x: 3.67394039744206e-15, y: 60.0), 512.0 \n",
      "--------------------\n",
      "(x: 7.34788079488412e-15, y: 120.0), 256.0 \n",
      "--------------------\n",
      "(x: 7.34788079488412e-15, y: 120.0), 256.0 \n",
      "--------------------\n",
      "(x: 1.1021821192326179e-14, y: 180.0), 128.0 \n",
      "--------------------\n"
     ]
    }
   ],
   "source": [
    "for cell in wormy.cells:\n",
    "    print(cell)\n",
    "    print('-'*20)"
   ]
  },
  {
   "cell_type": "code",
   "execution_count": null,
   "metadata": {},
   "outputs": [],
   "source": []
  },
  {
   "cell_type": "code",
   "execution_count": null,
   "metadata": {},
   "outputs": [],
   "source": []
  },
  {
   "cell_type": "code",
   "execution_count": null,
   "metadata": {},
   "outputs": [],
   "source": []
  },
  {
   "cell_type": "code",
   "execution_count": null,
   "metadata": {},
   "outputs": [],
   "source": []
  },
  {
   "cell_type": "code",
   "execution_count": null,
   "metadata": {},
   "outputs": [],
   "source": []
  },
  {
   "cell_type": "code",
   "execution_count": null,
   "metadata": {},
   "outputs": [],
   "source": []
  },
  {
   "cell_type": "code",
   "execution_count": null,
   "metadata": {},
   "outputs": [],
   "source": []
  },
  {
   "cell_type": "code",
   "execution_count": null,
   "metadata": {},
   "outputs": [],
   "source": []
  }
 ],
 "metadata": {
  "kernelspec": {
   "display_name": "Python 3",
   "language": "python",
   "name": "python3"
  },
  "language_info": {
   "codemirror_mode": {
    "name": "ipython",
    "version": 3
   },
   "file_extension": ".py",
   "mimetype": "text/x-python",
   "name": "python",
   "nbconvert_exporter": "python",
   "pygments_lexer": "ipython3",
   "version": "3.7.1"
  }
 },
 "nbformat": 4,
 "nbformat_minor": 2
}
