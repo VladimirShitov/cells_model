{
 "cells": [
  {
   "cell_type": "code",
   "execution_count": 1,
   "metadata": {},
   "outputs": [],
   "source": [
    "import gizeh\n",
    "import numpy as np"
   ]
  },
  {
   "cell_type": "code",
   "execution_count": 2,
   "metadata": {},
   "outputs": [],
   "source": [
    "def get_neighbour_concentration(angle, concentration):\n",
    "    return concentration * abs(np.pi - angle) / (2*np.pi)"
   ]
  },
  {
   "cell_type": "code",
   "execution_count": 92,
   "metadata": {},
   "outputs": [],
   "source": [
    "class Cell:\n",
    "    MAX_CONCENTRATION = 1024\n",
    "    \n",
    "    def __init__(self, x, y, radius, is_stem=False, stem_angle=None):\n",
    "        self.x = x\n",
    "        self.y = y\n",
    "        self.radius = radius\n",
    "        self.is_stem = is_stem\n",
    "        self.neighbours = {}\n",
    "        self.checked = False\n",
    "        self.gradient = {x:None,\n",
    "                         y:None}\n",
    "        \n",
    "        if self.is_stem:\n",
    "            self.stem_angle = stem_angle\n",
    "            \n",
    "        if self.is_stem:\n",
    "            self.concentration = Cell.MAX_CONCENTRATION\n",
    "        else:\n",
    "            self.concentration = None\n",
    "            \n",
    "    def __repr__(self):\n",
    "        return '(x: {x}, y: {y}), {c} {stem}'.format(x = self.x,\n",
    "                                                     y = self.y,\n",
    "                                                     c = self.concentration,\n",
    "                                                     stem = '*' if self.is_stem else '')\n",
    "            \n",
    "    def set_gradient(self):\n",
    "        self.checked = True\n",
    "        if self.is_stem:\n",
    "            self.concentration += Cell.MAX_CONCENTRATION\n",
    "            \n",
    "            gradient_angle = self.stem_angle + np.pi\n",
    "            \n",
    "            self.gradient['x'] += self.concentration * np.cos(gradient_angle)\n",
    "            self.gradient['y'] += self.concentration * np.sin(gradient_angle)\n",
    "            \n",
    "        for neighbour, angle in self.neighbours.items():\n",
    "            if not neighbour.checked:\n",
    "                angle_to_gradient = self.gradient_angle() - angle\n",
    "                influence = get_neighbour_concentration(angle_to_gradient, self.concentration)\n",
    "            \n",
    "                neighbour.concentration += influence\n",
    "                neighbour.gradient['x'] += self.gradient['x'] * influence/Cell.MAX_CONCENTRATION\n",
    "                neighbour.gradient['y'] += self.gradient['y'] * influence/Cell.MAX_CONCENTRATION\n",
    "                neighbour.set_gradient()\n",
    "        \n",
    "        \n",
    "    def add_neighbour(self, angle, neighbour):\n",
    "        self.neighbours[neighbour] = angle\n",
    "        neighbour.neighbours[self] = (np.pi + angle) % (2*np.pi)\n",
    "        \n",
    "    def gradient_angle(self):\n",
    "        return np.arctan2(self.gradient['y'], self.gradient['x'])\n",
    "        \n",
    "    def divide(self):\n",
    "        \"\"\"Return a new neighbour of the cell in the direction of the gradient\"\"\"\n",
    "        return Cell(None, None, self.radius), self.gradient_angle() # x and y don't matter now"
   ]
  },
  {
   "cell_type": "code",
   "execution_count": 141,
   "metadata": {},
   "outputs": [],
   "source": [
    "class Organism:\n",
    "    def __init__(self, x=0, y=0, radius=30, stem_angle=-np.pi/2):\n",
    "        self.cells = [Cell(x=x, y=y, radius=radius, is_stem=True, stem_angle=stem_angle)]\n",
    "        self.root_cell = self.cells[0]\n",
    "        \n",
    "        self.log = []\n",
    "        self.log.append('Created cell with x={x}, y={y}, radius={r}, stem_angle={ang}\\n'.format(x=x,\n",
    "                                                                                                y=y,\n",
    "                                                                                                r=radius,\n",
    "                                                                                                ang=stem_angle))\n",
    "        \n",
    "    def print_log(self):\n",
    "        return ''.join(self.log)\n",
    "        \n",
    "    def reset_checks(self):\n",
    "        \"\"\"Set `cell.checked` attribute of each cell to False\"\"\"\n",
    "        for cell in self.cells:\n",
    "            cell.checked = False\n",
    "            \n",
    "        self.log.append('Reset checks\\n')\n",
    "        \n",
    "    def set_gradients(self):\n",
    "        \"\"\"Set all the gradients and concentrations for `self.cells`\"\"\"        \n",
    "        self.log.append('Setting gradients\\n')\n",
    "        \n",
    "        stem_cells = []\n",
    "        \n",
    "        self.log.append('Gradients and concentration set to 0\\n')\n",
    "        \n",
    "        for cell in self.cells:\n",
    "            cell.concentration = 0\n",
    "            cell.gradient = {'x': 0,\n",
    "                             'y': 0}\n",
    "            if cell.is_stem:\n",
    "                stem_cells.append(cell)\n",
    "        \n",
    "        for cell in stem_cells:\n",
    "            self.reset_checks()\n",
    "            self.log.append('Setting the gradient for stem cell {}\\n'.format(cell))\n",
    "            cell.set_gradient()\n",
    "            \n",
    "        \n",
    "        \n",
    "    \n",
    "    def draw(self, size=500):\n",
    "        \"\"\"Draw the organism\"\"\"        \n",
    "        surface = gizeh.Surface(width=size, height=size)\n",
    "        \n",
    "        offset = size/2\n",
    "        \n",
    "        for cell in self.cells:\n",
    "            circle = gizeh.circle(r=cell.radius,\n",
    "                                  xy=[cell.x + offset, cell.y + offset],\n",
    "                                  fill=(cell.concentration/Cell.MAX_CONCENTRATION, 0, 0),\n",
    "                                  stroke=(0,0,0),\n",
    "                                  stroke_width=2)\n",
    "            circle.draw(surface)\n",
    "            \n",
    "            # draw the gradient of the cell as an arrow\n",
    "            triangle = gizeh.regular_polygon(r=cell.radius/5, n=3, angle=0,\n",
    "                                             xy=[cell.x+offset+.7*cell.radius*cell.concentration/Cell.MAX_CONCENTRATION,\n",
    "                                                 cell.y+offset], fill=(1,1,1))\n",
    "            \n",
    "            line = gizeh.polyline(points=[(cell.x+offset, cell.y+offset),\n",
    "                                          (cell.x+offset+.7*cell.radius*cell.concentration/Cell.MAX_CONCENTRATION,\n",
    "                                           cell.y+offset)],\n",
    "                                           stroke_width=3, stroke=(1,1,1))\n",
    "            \n",
    "            arrow = gizeh.Group([triangle, line])\n",
    "            arrow = arrow.rotate(cell.gradient_angle(), center=[cell.x+offset,cell.y+offset])\n",
    "            arrow.draw(surface)\n",
    "            \n",
    "            if cell.is_stem:\n",
    "                stem_r = cell.radius / 5\n",
    "                \n",
    "                circle = gizeh.circle(r=stem_r,\n",
    "                                      xy=[\n",
    "                                          cell.x + offset + (cell.radius - stem_r)*np.cos(cell.stem_angle),\n",
    "                                          cell.y + offset + (cell.radius - stem_r)*np.sin(cell.stem_angle),\n",
    "                                      ],\n",
    "                                      fill=(0,0,1))\n",
    "                circle.draw(surface)\n",
    "                \n",
    "            \n",
    "        return surface\n",
    "    \n",
    "    def divide_cells(self):\n",
    "        \n",
    "        self.log.append('Dividing cells\\n')\n",
    "        \n",
    "        new_cells = []\n",
    "        \n",
    "        for cell in self.cells:\n",
    "            new_cell, angle = cell.divide()\n",
    "            self.insert_cell(new_cell, cell, angle)\n",
    "            new_cells.append(new_cell)\n",
    "            cell.checked = False  # Reset all checks for checking correctness later\n",
    "            \n",
    "        self._check_correctness(self.root_cell)\n",
    "        \n",
    "        self.log.append('Trying to add {} new cells\\n'.format(len(new_cells)))\n",
    "        \n",
    "        for new_cell in new_cells:\n",
    "            if self.has_intersection(new_cell):\n",
    "                self.delete_cell(new_cell)\n",
    "            else:\n",
    "                self.cells.append(new_cell)\n",
    "        \n",
    "        self.set_gradients()\n",
    "        \n",
    "    def has_intersection(self, cell):\n",
    "        \"\"\"Return True if cell has an intersection with any of `self.cells`\"\"\"\n",
    "        \n",
    "        for self_cell in self.cells:\n",
    "            lower = abs(cell.radius-self_cell.radius)\n",
    "            # Better to round for avoiding false positives\n",
    "            centers_dist = round(((cell.x-self_cell.x)**2 + (cell.y-self_cell.y)**2)**(.5), 6) \n",
    "            upper = cell.radius + self_cell.radius\n",
    "            \n",
    "            # Circles intersect iff lower <= centers_dist <= upper\n",
    "            if lower <= centers_dist < upper:\n",
    "                self.log.append('Cell {} intersected with {}\\n'.format(cell, self_cell))\n",
    "                self.log.append('Lower bound: {}\\n'.format(lower))\n",
    "                self.log.append('Distance between centers: {}\\n'.format(centers_dist))\n",
    "                self.log.append('Upper bound: {}\\n'.format(upper))\n",
    "                return True\n",
    "                \n",
    "        return False\n",
    "        \n",
    "    def delete_cell(self, cell):\n",
    "        \"\"\"Delete a cell from the organism. Don't apply to cells in a center, it won't work well!\"\"\"        \n",
    "        self.log.append('Deleting cell {}\\n'.format(cell))\n",
    "        \n",
    "        neighbours_to_delete = [neighbour for neighbour in cell.neighbours]\n",
    "        \n",
    "        for neighbour in neighbours_to_delete:\n",
    "            del cell.neighbours[neighbour]\n",
    "        \n",
    "        if cell in self.cells:\n",
    "            self.cells.remove(cell)\n",
    "        \n",
    "        \n",
    "    def _check_correctness(self, cell):\n",
    "        \"\"\"Set correct coordinates to all the cells\"\"\"\n",
    "        cell.checked = True\n",
    "        \n",
    "        for neighbour, angle in cell.neighbours.items():\n",
    "            if not neighbour.checked:\n",
    "                neighbour.x = cell.x + 2*cell.radius*np.cos(angle)\n",
    "                neighbour.y = cell.y + 2*cell.radius*np.sin(angle)\n",
    "                self._check_correctness(neighbour)\n",
    "                \n",
    "                \n",
    "    def insert_cell(self, cell, old_cell, angle):\n",
    "        \"\"\"Insert the `cell` between `old_cell` and all other cells.\n",
    "         \n",
    "        old_cell, angle=0\n",
    "          |\n",
    "          v\n",
    "        O\\ /O     O\\   /O\n",
    "        O-O-O --> O-O-O-O   \n",
    "        O/ \\O     O/   \\O\n",
    "        \n",
    "        Neighbours of the `old_cell` from `angle`-numpy.pi/2 to `angle`+numpy/pi/2 will become the neighbours\n",
    "        of the `cell`.\n",
    "        \"\"\"\n",
    "        neighbours_to_delete = []\n",
    "        \n",
    "        for neighbour, neighbour_angle in old_cell.neighbours.items():\n",
    "            if (angle - np.pi/2) < neighbour_angle <= (angle + np.pi/2):\n",
    "                neighbours_to_delete.append(neighbour)\n",
    "                cell.add_neighbour(neighbour_angle, neighbour)\n",
    "                \n",
    "        old_cell.add_neighbour(angle, cell)\n",
    "                \n",
    "        for neighbour in neighbours_to_delete:\n",
    "            del old_cell.neighbours[neighbour]       "
   ]
  },
  {
   "cell_type": "code",
   "execution_count": 151,
   "metadata": {},
   "outputs": [
    {
     "data": {
      "image/png": "[encoded data removed]",
      "text/html": [
       "<img  src=\"data:image/png;base64,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\">"
      ],
      "text/plain": [
       "<gizeh.gizeh.Surface at 0x2abe47c5278>"
      ]
     },
     "execution_count": 151,
     "metadata": {},
     "output_type": "execute_result"
    }
   ],
   "source": [
    "wormy = Organism(x=-200, y=0, radius=30, stem_angle=np.pi)\n",
    "wormy.set_gradients()\n",
    "wormy.draw()"
   ]
  },
  {
   "cell_type": "code",
   "execution_count": 152,
   "metadata": {},
   "outputs": [
    {
     "data": {
      "image/png": "[encoded data removed]",
      "text/html": [
       "<img  src=\"data:image/png;base64,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\">"
      ],
      "text/plain": [
       "<gizeh.gizeh.Surface at 0x2abe47c4b70>"
      ]
     },
     "execution_count": 152,
     "metadata": {},
     "output_type": "execute_result"
    }
   ],
   "source": [
    "wormy.set_gradients()\n",
    "wormy.divide_cells()\n",
    "wormy.draw()"
   ]
  },
  {
   "cell_type": "code",
   "execution_count": 153,
   "metadata": {},
   "outputs": [
    {
     "data": {
      "image/png": "[encoded data removed]",
      "text/html": [
       "<img  src=\"data:image/png;base64,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\">"
      ],
      "text/plain": [
       "<gizeh.gizeh.Surface at 0x2abe47c4b38>"
      ]
     },
     "execution_count": 153,
     "metadata": {},
     "output_type": "execute_result"
    }
   ],
   "source": [
    "wormy.divide_cells()\n",
    "wormy.draw()"
   ]
  },
  {
   "cell_type": "code",
   "execution_count": 154,
   "metadata": {},
   "outputs": [
    {
     "data": {
      "image/png": "[encoded data removed]",
      "text/html": [
       "<img  src=\"data:image/png;base64,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\">"
      ],
      "text/plain": [
       "<gizeh.gizeh.Surface at 0x2abe47c5e10>"
      ]
     },
     "execution_count": 154,
     "metadata": {},
     "output_type": "execute_result"
    }
   ],
   "source": [
    "wormy.divide_cells()\n",
    "wormy.draw()"
   ]
  },
  {
   "cell_type": "code",
   "execution_count": 155,
   "metadata": {},
   "outputs": [
    {
     "name": "stdout",
     "output_type": "stream",
     "text": [
      "Created cell with x=-200, y=0, radius=30, stem_angle=3.141592653589793\n",
      "Setting gradients\n",
      "Gradients and concentration set to 0\n",
      "Reset checks\n",
      "Setting the gradient for stem cell (x: -200, y: 0), 0 *\n",
      "Setting gradients\n",
      "Gradients and concentration set to 0\n",
      "Reset checks\n",
      "Setting the gradient for stem cell (x: -200, y: 0), 0 *\n",
      "Dividing cells\n",
      "Trying to add 1 new cells\n",
      "Setting gradients\n",
      "Gradients and concentration set to 0\n",
      "Reset checks\n",
      "Setting the gradient for stem cell (x: -200, y: 0), 0 *\n",
      "Dividing cells\n",
      "Trying to add 2 new cells\n",
      "Setting gradients\n",
      "Gradients and concentration set to 0\n",
      "Reset checks\n",
      "Setting the gradient for stem cell (x: -200, y: 0), 0 *\n",
      "Dividing cells\n",
      "Trying to add 4 new cells\n",
      "Setting gradients\n",
      "Gradients and concentration set to 0\n",
      "Reset checks\n",
      "Setting the gradient for stem cell (x: -200, y: 0), 0 *\n",
      "\n"
     ]
    }
   ],
   "source": [
    "print(wormy.print_log())"
   ]
  },
  {
   "cell_type": "code",
   "execution_count": 156,
   "metadata": {},
   "outputs": [
    {
     "name": "stdout",
     "output_type": "stream",
     "text": [
      "(x: -200, y: 0), 1024 *\n",
      "--------------------\n",
      "(x: 40.0, y: -5.878304635907296e-14), 64.0 \n",
      "--------------------\n",
      "(x: -80.0, y: -2.939152317953648e-14), 256.0 \n",
      "--------------------\n",
      "(x: 160.0, y: -8.817456953860945e-14), 16.0 \n",
      "--------------------\n",
      "(x: -140.0, y: -1.469576158976824e-14), 512.0 \n",
      "--------------------\n",
      "(x: 100.0, y: -7.34788079488412e-14), 32.0 \n",
      "--------------------\n",
      "(x: -20.0, y: -4.4087284769304716e-14), 128.0 \n",
      "--------------------\n",
      "(x: 220.0, y: -1.0287033112837769e-13), 8.0 \n",
      "--------------------\n"
     ]
    }
   ],
   "source": [
    "for cell in wormy.cells:\n",
    "    print(cell)\n",
    "    print('-'*20)"
   ]
  },
  {
   "cell_type": "code",
   "execution_count": null,
   "metadata": {},
   "outputs": [],
   "source": []
  },
  {
   "cell_type": "code",
   "execution_count": null,
   "metadata": {},
   "outputs": [],
   "source": []
  },
  {
   "cell_type": "code",
   "execution_count": null,
   "metadata": {},
   "outputs": [],
   "source": []
  }
 ],
 "metadata": {
  "kernelspec": {
   "display_name": "Python 3",
   "language": "python",
   "name": "python3"
  },
  "language_info": {
   "codemirror_mode": {
    "name": "ipython",
    "version": 3
   },
   "file_extension": ".py",
   "mimetype": "text/x-python",
   "name": "python",
   "nbconvert_exporter": "python",
   "pygments_lexer": "ipython3",
   "version": "3.6.5"
  }
 },
 "nbformat": 4,
 "nbformat_minor": 2
}
